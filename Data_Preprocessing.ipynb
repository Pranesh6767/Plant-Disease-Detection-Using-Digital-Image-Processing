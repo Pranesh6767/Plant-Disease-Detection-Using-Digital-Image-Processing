{
 "cells": [
  {
   "cell_type": "markdown",
   "metadata": {
    "id": "OSEFD254k6ra"
   },
   "source": [
    "# Importing Libraries"
   ]
  },
  {
   "cell_type": "code",
   "execution_count": null,
   "metadata": {
    "id": "BXkvSCx8jYjU"
   },
   "outputs": [],
   "source": [
    "import os\n",
    "import cv2\n",
    "import numpy as np\n",
    "import pandas as pd\n",
    "from skimage.feature import greycomatrix, greycoprops\n",
    "from matplotlib import pyplot as plt\n",
    "%matplotlib inline\n",
    "from os import listdir\n",
    "from os.path import isfile, join"
   ]
  },
  {
   "cell_type": "markdown",
   "metadata": {
    "id": "xmPD16fSlDZZ"
   },
   "source": [
    "# Function to Create a new dataframe"
   ]
  },
  {
   "cell_type": "code",
   "execution_count": null,
   "metadata": {
    "id": "QFRdk1x_lAai"
   },
   "outputs": [],
   "source": [
    "def create_empty_df():\n",
    "    df = pd.DataFrame()\n",
    "    df['area'] = None\n",
    "    df['perimeter'] = None\n",
    "    df['red_mean'] = None\n",
    "    df['green_mean'] = None\n",
    "    df['blue_mean'] = None\n",
    "    df['f1'] = None\n",
    "    df['f2'] = None\n",
    "    df['red_std'] = None\n",
    "    df['green_std'] = None\n",
    "    df['blue_std'] = None\n",
    "    df['f4'] = None\n",
    "    df['f5'] = None\n",
    "    df['f6'] = None\n",
    "    df['f7'] = None\n",
    "    df['f8'] = None\n",
    "    df['label'] = None\n",
    "    return df"
   ]
  },
  {
   "cell_type": "markdown",
   "metadata": {
    "id": "Q68D0Eq3luq6"
   },
   "source": [
    "# Function to extract the features"
   ]
  },
  {
   "cell_type": "code",
   "execution_count": null,
   "metadata": {
    "id": "E0mwRfQdluPf"
   },
   "outputs": [],
   "source": [
    "def feature_extractor(filename):\n",
    "    '''\n",
    "    input params: \n",
    "    filename : path of the file that we want to process\n",
    "\n",
    "    Output params:\n",
    "    l : Feature vector\n",
    "    '''\n",
    "\n",
    "    try:\n",
    "        main_img = cv2.imread(filename)\n",
    "        img = cv2.cvtColor(main_img, cv2.COLOR_BGR2RGB)\n",
    "    except:\n",
    "        return \"Invalid\"\n",
    "\n",
    "    #Preprocessing\n",
    "    \n",
    "\n",
    "    gs = cv2.cvtColor(img,cv2.COLOR_RGB2GRAY)\n",
    "    blur = cv2.GaussianBlur(gs, (25,25),0)\n",
    "    ret_otsu,im_bw_otsu = cv2.threshold(blur,0,255,cv2.THRESH_BINARY_INV+cv2.THRESH_OTSU)\n",
    "    kernel = np.ones((25,25),np.uint8)\n",
    "    closing = cv2.morphologyEx(im_bw_otsu, cv2.MORPH_CLOSE, kernel)\n",
    "\n",
    "    #Shape features\n",
    "    contours, _ = cv2.findContours(closing,cv2.RETR_TREE,cv2.CHAIN_APPROX_SIMPLE)\n",
    "    cnt = contours[0]\n",
    "    M = cv2.moments(cnt)\n",
    "    area = cv2.contourArea(cnt)\n",
    "    if area==0:\n",
    "        return \"Invalid\"\n",
    "    perimeter = cv2.arcLength(cnt,True)\n",
    "\n",
    "    current_frame = main_img\n",
    "    filtered_image = closing/255\n",
    "\n",
    "    #Elementwise Multiplication of range bounded filtered_image with current_frame\n",
    "    current_frame[0:current_frame.shape[0], 0:current_frame.shape[1], 0] = np.multiply(current_frame[0:current_frame.shape[0], 0:current_frame.shape[1], 0], filtered_image) #B channel\n",
    "    current_frame[0:current_frame.shape[0], 0:current_frame.shape[1], 1] = np.multiply(current_frame[0:current_frame.shape[0], 0:current_frame.shape[1], 1], filtered_image) #G channel\n",
    "    current_frame[0:current_frame.shape[0], 0:current_frame.shape[1], 2] = np.multiply(current_frame[0:current_frame.shape[0], 0:current_frame.shape[1], 2], filtered_image) #R channel\n",
    "\n",
    "    img = current_frame\n",
    "\n",
    "\n",
    "    #Color features\n",
    "    red_channel = img[:,:,0]\n",
    "    green_channel = img[:,:,1] #show the intensities of green channe\n",
    "    blue_channel = img[:,:,2]\n",
    "\n",
    "    red_mean = np.mean(red_channel)\n",
    "    green_mean = np.mean(green_channel)\n",
    "    blue_mean = np.mean(blue_channel)\n",
    "    #standard deviation for colour feature from the image.    \n",
    "    red_std = np.std(red_channel)\n",
    "    green_std = np.std(green_channel)\n",
    "    blue_std = np.std(blue_channel)\n",
    "    \n",
    "    #amt.of green color in the image\n",
    "    gr = cv2.cvtColor(img, cv2.COLOR_BGR2HSV)\n",
    "    boundaries = [([30,0,0],[70,255,255])]\n",
    "    for (lower, upper) in boundaries:\n",
    "        mask = cv2.inRange(gr, (36, 0, 0), (70, 255,255))\n",
    "        ratio_green = cv2.countNonZero(mask)/(img.size/3)\n",
    "        f1=np.round(ratio_green, 2)\n",
    "    #amt. of non green part of the image   \n",
    "    f2=1-f1\n",
    "\n",
    "    #Texture features using grey level cooccurance matrix\n",
    "    img=cv2.cvtColor(img, cv2.COLOR_BGR2GRAY)\n",
    "    g=greycomatrix(img, [1], [0, np.pi/4, np.pi/2, 3*np.pi/4])\n",
    "\n",
    "    #with the help of glcm find the contrast\n",
    "    contrast = greycoprops(g, 'contrast')\n",
    "    f4=contrast[0][0]+contrast[0][1]+contrast[0][2]+contrast[0][3]\n",
    "    #[0][3] represent no. of times grey level 3 appears at the right of 0\n",
    "\n",
    "\n",
    "    #with the help of glcm find the dissimilarity \n",
    "    dissimilarity = greycoprops(g, prop='dissimilarity')\n",
    "    f5=dissimilarity[0][0]+dissimilarity[0][1]+dissimilarity[0][2]+dissimilarity[0][3]\n",
    "\n",
    "    #with the help of glcm find the homogeneity\n",
    "    homogeneity = greycoprops(g, prop='homogeneity')\n",
    "    f6=homogeneity[0][0]+homogeneity[0][1]+homogeneity[0][2]+homogeneity[0][3]\n",
    "\n",
    "    energy = greycoprops(g, prop='energy')\n",
    "    f7=energy[0][0]+energy[0][1]+energy[0][2]+energy[0][3]\n",
    "\n",
    "\n",
    "    correlation = greycoprops(g,prop= 'correlation')\n",
    "    f8=correlation[0][0]+correlation[0][1]+correlation[0][2]+correlation[0][3]\n",
    "\n",
    "\n",
    "\n",
    "    l = [area, perimeter, red_mean, green_mean, blue_mean,\n",
    "         f1, f2, red_std, green_std, blue_std,\n",
    "        f4,f5,f6,f7,f8]\n",
    "    return l"
   ]
  },
  {
   "cell_type": "markdown",
   "metadata": {
    "id": "LVEOVsrZlJNN"
   },
   "source": [
    "# Function to process one folder"
   ]
  },
  {
   "cell_type": "code",
   "execution_count": null,
   "metadata": {
    "id": "YMXnaP7llM5-"
   },
   "outputs": [],
   "source": [
    "def process_folder(folderpath,df_f,label_f):\n",
    "    '''\n",
    "    input params:\n",
    "    folderpath : Path of the folder that we want to process\n",
    "    df_f = dataframe for specific disease\n",
    "    label_f : label corresponding to the specific disease\n",
    "\n",
    "    Output params:\n",
    "    df_f = Dataframe consisting processed vectors\n",
    "    '''\n",
    "    imagelist = os.listdir(folderpath)  # stores all the imagepaths in the python list\n",
    "    for image in imagelist:\n",
    "        imagepath = os.path.join(folderpath, image)\n",
    "        im_feature = feature_extractor(imagepath) \n",
    "        if im_feature == \"Invalid\":\n",
    "            continue\n",
    "        im_feature.append(label_f)  # appending label to feature vector\n",
    "        df_f.loc[len(df_f)] = im_feature \n",
    "        if len(df_f)%500 ==0:\n",
    "            print(len(df_f))\n",
    "\n",
    "    return df_f\n"
   ]
  },
  {
   "cell_type": "markdown",
   "metadata": {
    "id": "e_j-0tsClOhc"
   },
   "source": [
    "# Function to process one plant"
   ]
  },
  {
   "cell_type": "code",
   "execution_count": null,
   "metadata": {
    "id": "BZlSK_KtlShp"
   },
   "outputs": [],
   "source": [
    "def process_plant(folderpaths, labels, savepath):\n",
    "    '''\n",
    "    input params:\n",
    "    folderpaths : List of the folderpaths for specific Plant\n",
    "    labels : List of labels \n",
    "    savepath : Path to export datasheet\n",
    "\n",
    "    Output params:\n",
    "    None\n",
    "    '''\n",
    "    datasheet = create_empty_df()\n",
    "    for i in range(len(folderpaths)):\n",
    "        datasheet = process_folder(folderpaths[i],datasheet,labels[i])\n",
    "\n",
    "    datasheet.to_excel(savepath)\n",
    "\n",
    "    return None"
   ]
  },
  {
   "cell_type": "code",
   "execution_count": null,
   "metadata": {
    "id": "S9XeDa4SvCsK"
   },
   "outputs": [],
   "source": []
  },
  {
   "cell_type": "markdown",
   "metadata": {
    "id": "m1ZJGflvvDVs"
   },
   "source": [
    "# Data Preprocessing"
   ]
  },
  {
   "cell_type": "markdown",
   "metadata": {
    "id": "QPNfuzCpu-sB"
   },
   "source": [
    "**Apple**"
   ]
  },
  {
   "cell_type": "code",
   "execution_count": null,
   "metadata": {
    "colab": {
     "base_uri": "https://localhost:8080/"
    },
    "executionInfo": {
     "elapsed": 2304165,
     "status": "ok",
     "timestamp": 1619251897673,
     "user": {
      "displayName": "PRANESH KULKARNI",
      "photoUrl": "https://lh3.googleusercontent.com/a-/AOh14GgvgFvelpvTbQgkznPwzxNtGpPH76MqnWgXlEnr0w=s64",
      "userId": "16614981567397361462"
     },
     "user_tz": -330
    },
    "id": "sda9zebgtbDy",
    "outputId": "4332a5e3-8521-4065-9bc6-47e8d9507fad"
   },
   "outputs": [
    {
     "name": "stdout",
     "output_type": "stream",
     "text": [
      "500\n",
      "1000\n",
      "1500\n",
      "2000\n",
      "2500\n",
      "3000\n",
      "3500\n",
      "4000\n",
      "4500\n",
      "5000\n",
      "5500\n",
      "6000\n",
      "6500\n",
      "7000\n",
      "7500\n"
     ]
    }
   ],
   "source": [
    "folderpaths = ['/content/drive/MyDrive/Plant Disease Detection /Raw_Dataset/New Plant Diseases Dataset(Augmented)/New Plant Diseases Dataset(Augmented)/train/Apple___healthy',\n",
    "               '/content/drive/MyDrive/Plant Disease Detection /Raw_Dataset/New Plant Diseases Dataset(Augmented)/New Plant Diseases Dataset(Augmented)/train/Apple___Apple_scab',\n",
    "               '/content/drive/MyDrive/Plant Disease Detection /Raw_Dataset/New Plant Diseases Dataset(Augmented)/New Plant Diseases Dataset(Augmented)/train/Apple___Black_rot',\n",
    "               '/content/drive/MyDrive/Plant Disease Detection /Raw_Dataset/New Plant Diseases Dataset(Augmented)/New Plant Diseases Dataset(Augmented)/train/Apple___Cedar_apple_rust'\n",
    "\n",
    "]\n",
    "\n",
    "labels = [0,1,2,3]\n",
    "savepath = '/content/drive/MyDrive/Plant Disease Detection /Processed_data&models/Apple/dataset.xlsx'\n",
    "process_plant(folderpaths, labels, savepath)"
   ]
  },
  {
   "cell_type": "markdown",
   "metadata": {
    "id": "qrr0rX5ZzT2f"
   },
   "source": [
    "**Corn**"
   ]
  },
  {
   "cell_type": "code",
   "execution_count": null,
   "metadata": {
    "id": "Ki3NOAXJzdhE"
   },
   "outputs": [],
   "source": [
    "global_folder = '/content/drive/MyDrive/Plant Disease Detection /Raw_Dataset/New Plant Diseases Dataset(Augmented)/New Plant Diseases Dataset(Augmented)/train/'"
   ]
  },
  {
   "cell_type": "code",
   "execution_count": null,
   "metadata": {
    "colab": {
     "base_uri": "https://localhost:8080/"
    },
    "executionInfo": {
     "elapsed": 2199820,
     "status": "ok",
     "timestamp": 1619254122224,
     "user": {
      "displayName": "PRANESH KULKARNI",
      "photoUrl": "https://lh3.googleusercontent.com/a-/AOh14GgvgFvelpvTbQgkznPwzxNtGpPH76MqnWgXlEnr0w=s64",
      "userId": "16614981567397361462"
     },
     "user_tz": -330
    },
    "id": "4I2h1VfYyvYs",
    "outputId": "179b6ffe-7790-473b-bfd2-d2478b017b8b"
   },
   "outputs": [
    {
     "name": "stdout",
     "output_type": "stream",
     "text": [
      "500\n",
      "1000\n",
      "1500\n",
      "2000\n",
      "2500\n",
      "3000\n",
      "3500\n",
      "4000\n",
      "4500\n",
      "5000\n",
      "5500\n",
      "6000\n",
      "6500\n",
      "7000\n"
     ]
    }
   ],
   "source": [
    "folderpaths = [global_folder+ 'Corn_(maize)___healthy',\n",
    "              global_folder+ 'Corn_(maize)___Cercospora_leaf_spot Gray_leaf_spot',\n",
    "              global_folder+ 'Corn_(maize)___Common_rust_',\n",
    "              global_folder+ 'Corn_(maize)___Northern_Leaf_Blight'\n",
    "              ]\n",
    "\n",
    "labels = [0,1,2,3]\n",
    "savepath = '/content/drive/MyDrive/Plant Disease Detection /Processed_data&models/Corn/dataset.xlsx'\n",
    "process_plant(folderpaths, labels, savepath)"
   ]
  },
  {
   "cell_type": "code",
   "execution_count": null,
   "metadata": {
    "id": "g6_HtHCc0aA2"
   },
   "outputs": [],
   "source": []
  },
  {
   "cell_type": "markdown",
   "metadata": {
    "id": "uVJTlZKo8gHW"
   },
   "source": [
    "**Grape**"
   ]
  },
  {
   "cell_type": "code",
   "execution_count": null,
   "metadata": {
    "colab": {
     "base_uri": "https://localhost:8080/"
    },
    "executionInfo": {
     "elapsed": 243266,
     "status": "ok",
     "timestamp": 1619268768601,
     "user": {
      "displayName": "PRANESH KULKARNI",
      "photoUrl": "https://lh3.googleusercontent.com/a-/AOh14GgvgFvelpvTbQgkznPwzxNtGpPH76MqnWgXlEnr0w=s64",
      "userId": "16614981567397361462"
     },
     "user_tz": -330
    },
    "id": "ZlecZPtF0Z6C",
    "outputId": "e9cab57c-35f9-4639-ba04-ce1672cc774c"
   },
   "outputs": [
    {
     "name": "stdout",
     "output_type": "stream",
     "text": [
      "500\n",
      "1000\n",
      "1500\n",
      "2000\n",
      "2500\n",
      "3000\n",
      "3500\n",
      "4000\n",
      "4500\n",
      "5000\n",
      "5500\n",
      "6000\n",
      "6500\n",
      "7000\n"
     ]
    }
   ],
   "source": [
    "global_folder = '/content/drive/MyDrive/Plant Disease Detection /Raw_Dataset/New Plant Diseases Dataset(Augmented)/New Plant Diseases Dataset(Augmented)/train/'\n",
    "\n",
    "folderpaths = [global_folder+ 'Grape___healthy',\n",
    "              global_folder+ 'Grape___Black_rot',\n",
    "              global_folder+ 'Grape___Esca_(Black_Measles)',\n",
    "              global_folder+ 'Grape___Leaf_blight_(Isariopsis_Leaf_Spot)'\n",
    "              ]\n",
    "\n",
    "labels = [0,1,2,3]\n",
    "savepath = '/content/drive/MyDrive/Plant Disease Detection /Processed_data&models/Grapes/dataset.xlsx'\n",
    "process_plant(folderpaths, labels, savepath)"
   ]
  },
  {
   "cell_type": "markdown",
   "metadata": {
    "id": "_WHzZFWh9Hz6"
   },
   "source": [
    "**Tomato**"
   ]
  },
  {
   "cell_type": "code",
   "execution_count": null,
   "metadata": {
    "colab": {
     "base_uri": "https://localhost:8080/"
    },
    "executionInfo": {
     "elapsed": 632858,
     "status": "ok",
     "timestamp": 1619269440910,
     "user": {
      "displayName": "PRANESH KULKARNI",
      "photoUrl": "https://lh3.googleusercontent.com/a-/AOh14GgvgFvelpvTbQgkznPwzxNtGpPH76MqnWgXlEnr0w=s64",
      "userId": "16614981567397361462"
     },
     "user_tz": -330
    },
    "id": "ojtESB1E0Zw8",
    "outputId": "8f894c81-1f41-4b18-e3a3-083ab1677c19"
   },
   "outputs": [
    {
     "name": "stdout",
     "output_type": "stream",
     "text": [
      "500\n",
      "1000\n",
      "1500\n",
      "2000\n",
      "2500\n",
      "3000\n",
      "3500\n",
      "4000\n",
      "4500\n",
      "5000\n",
      "5500\n",
      "6000\n",
      "6500\n",
      "7000\n",
      "7500\n",
      "8000\n",
      "8500\n",
      "9000\n",
      "9500\n",
      "10000\n",
      "10500\n",
      "11000\n",
      "11500\n",
      "12000\n",
      "12500\n",
      "13000\n",
      "13500\n",
      "14000\n",
      "14500\n",
      "15000\n",
      "15500\n",
      "16000\n",
      "16500\n",
      "17000\n",
      "17500\n",
      "18000\n"
     ]
    }
   ],
   "source": [
    "global_folder = '/content/drive/MyDrive/Plant Disease Detection /Raw_Dataset/New Plant Diseases Dataset(Augmented)/New Plant Diseases Dataset(Augmented)/train/'\n",
    "\n",
    "folderpaths = [global_folder+ 'Tomato___healthy',\n",
    "              global_folder+ 'Tomato___Bacterial_spot',\n",
    "              global_folder+ 'Tomato___Early_blight',\n",
    "              global_folder+ 'Tomato___Late_blight',\n",
    "              global_folder+ 'Tomato___Leaf_Mold',\n",
    "              global_folder+ 'Tomato___Septoria_leaf_spot',\n",
    "              global_folder+'Tomato___Spider_mites Two-spotted_spider_mite',\n",
    "              global_folder+ 'Tomato___Target_Spot',\n",
    "              global_folder+'Tomato___Tomato_Yellow_Leaf_Curl_Virus',\n",
    "              global_folder+ 'Tomato___Tomato_mosaic_virus'\n",
    "              ]\n",
    "\n",
    "labels = [0,1,2,3,4,5,6,7,8,9,10]\n",
    "savepath = '/content/drive/MyDrive/Plant Disease Detection /Processed_data&models/Tomato/dataset.xlsx'\n",
    "process_plant(folderpaths, labels, savepath)"
   ]
  },
  {
   "cell_type": "markdown",
   "metadata": {
    "id": "YbztYIOEvY7b"
   },
   "source": [
    "**Potato**"
   ]
  },
  {
   "cell_type": "code",
   "execution_count": null,
   "metadata": {
    "colab": {
     "base_uri": "https://localhost:8080/"
    },
    "executionInfo": {
     "elapsed": 186975,
     "status": "ok",
     "timestamp": 1619269628008,
     "user": {
      "displayName": "PRANESH KULKARNI",
      "photoUrl": "https://lh3.googleusercontent.com/a-/AOh14GgvgFvelpvTbQgkznPwzxNtGpPH76MqnWgXlEnr0w=s64",
      "userId": "16614981567397361462"
     },
     "user_tz": -330
    },
    "id": "YPhb5u2vjBxt",
    "outputId": "386891d6-3fde-4948-b9c2-96e2f1c43458"
   },
   "outputs": [
    {
     "name": "stdout",
     "output_type": "stream",
     "text": [
      "500\n",
      "1000\n",
      "1500\n",
      "2000\n",
      "2500\n",
      "3000\n",
      "3500\n",
      "4000\n",
      "4500\n",
      "5000\n",
      "5500\n"
     ]
    }
   ],
   "source": [
    "global_folder = '/content/drive/MyDrive/Plant Disease Detection /Raw_Dataset/New Plant Diseases Dataset(Augmented)/New Plant Diseases Dataset(Augmented)/train/'\n",
    "\n",
    "folderpaths = [global_folder+ 'Potato___healthy',\n",
    "              global_folder+ 'Potato___Early_blight',\n",
    "              global_folder+ 'Potato___Late_blight'\n",
    "              ]\n",
    "\n",
    "labels = [0,1,2]\n",
    "savepath = '/content/drive/MyDrive/Plant Disease Detection /Processed_data&models/Potato/dataset.xlsx'\n",
    "process_plant(folderpaths, labels, savepath)"
   ]
  },
  {
   "cell_type": "code",
   "execution_count": null,
   "metadata": {
    "id": "tqEFoGf5wO9-"
   },
   "outputs": [],
   "source": [
    "from google.colab import drive\n",
    "drive.flush_and_unmount()"
   ]
  },
  {
   "cell_type": "code",
   "execution_count": null,
   "metadata": {
    "id": "xfYu9gEF6gcz"
   },
   "outputs": [],
   "source": []
  }
 ],
 "metadata": {
  "colab": {
   "collapsed_sections": [],
   "name": "Data_Preprocessing.ipynb",
   "provenance": [],
   "toc_visible": true
  },
  "kernelspec": {
   "display_name": "Python 3",
   "language": "python",
   "name": "python3"
  },
  "language_info": {
   "codemirror_mode": {
    "name": "ipython",
    "version": 3
   },
   "file_extension": ".py",
   "mimetype": "text/x-python",
   "name": "python",
   "nbconvert_exporter": "python",
   "pygments_lexer": "ipython3",
   "version": "3.8.7"
  }
 },
 "nbformat": 4,
 "nbformat_minor": 4
}
